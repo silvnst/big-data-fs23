{
 "cells": [
  {
   "attachments": {},
   "cell_type": "markdown",
   "metadata": {},
   "source": [
    "# Twitter Scraping"
   ]
  },
  {
   "attachments": {},
   "cell_type": "markdown",
   "metadata": {},
   "source": [
    "\n",
    "Um Störungen im Betriebsnetz festzustellen, wurden jeweils die Twitter Beiträge des offiziellen SBB Accounts gescrapt. "
   ]
  },
  {
   "cell_type": "code",
   "execution_count": 1,
   "metadata": {
    "execution": {
     "iopub.execute_input": "2023-05-18T13:52:42.428213Z",
     "iopub.status.busy": "2023-05-18T13:52:42.428213Z",
     "iopub.status.idle": "2023-05-18T13:52:43.044779Z",
     "shell.execute_reply": "2023-05-18T13:52:43.044779Z"
    }
   },
   "outputs": [],
   "source": [
    "#import libraries and modules \n",
    "from App.helper.functions import process_twitter_data, get_twitter_data, add_twitter_info\n",
    "import App.helper.config as config\n",
    "import pandas as pd\n",
    "import os"
   ]
  },
  {
   "cell_type": "code",
   "execution_count": 2,
   "metadata": {
    "execution": {
     "iopub.execute_input": "2023-05-18T13:52:43.044779Z",
     "iopub.status.busy": "2023-05-18T13:52:43.044779Z",
     "iopub.status.idle": "2023-05-18T13:52:44.750011Z",
     "shell.execute_reply": "2023-05-18T13:52:44.750011Z"
    }
   },
   "outputs": [
    {
     "data": {
      "text/html": [
       "<div>\n",
       "<style scoped>\n",
       "    .dataframe tbody tr th:only-of-type {\n",
       "        vertical-align: middle;\n",
       "    }\n",
       "\n",
       "    .dataframe tbody tr th {\n",
       "        vertical-align: top;\n",
       "    }\n",
       "\n",
       "    .dataframe thead th {\n",
       "        text-align: right;\n",
       "    }\n",
       "</style>\n",
       "<table border=\"1\" class=\"dataframe\">\n",
       "  <thead>\n",
       "    <tr style=\"text-align: right;\">\n",
       "      <th></th>\n",
       "      <th>BETRIEBSTAG</th>\n",
       "      <th>LINIEN_ID</th>\n",
       "      <th>LINIEN_TEXT</th>\n",
       "      <th>haltestelle_an</th>\n",
       "      <th>AN_soll</th>\n",
       "      <th>AN_ist</th>\n",
       "      <th>AN_diff</th>\n",
       "      <th>haltestelle_ab</th>\n",
       "      <th>AB_soll</th>\n",
       "      <th>AB_ist</th>\n",
       "      <th>AB_diff</th>\n",
       "      <th>weekday</th>\n",
       "      <th>ab_hour</th>\n",
       "      <th>ab_minute</th>\n",
       "    </tr>\n",
       "  </thead>\n",
       "  <tbody>\n",
       "    <tr>\n",
       "      <th>0</th>\n",
       "      <td>2022-04-01</td>\n",
       "      <td>1056</td>\n",
       "      <td>IC61</td>\n",
       "      <td>Basel SBB</td>\n",
       "      <td>2022-04-01 07:32:00</td>\n",
       "      <td>2022-04-01 07:32:49</td>\n",
       "      <td>0.816667</td>\n",
       "      <td>Olten</td>\n",
       "      <td>2022-04-01 07:05:00</td>\n",
       "      <td>2022-04-01 07:07:23</td>\n",
       "      <td>2.383333</td>\n",
       "      <td>4</td>\n",
       "      <td>7</td>\n",
       "      <td>5</td>\n",
       "    </tr>\n",
       "    <tr>\n",
       "      <th>1</th>\n",
       "      <td>2022-04-01</td>\n",
       "      <td>1057</td>\n",
       "      <td>IC61</td>\n",
       "      <td>Olten</td>\n",
       "      <td>2022-04-01 05:54:00</td>\n",
       "      <td>2022-04-01 05:54:03</td>\n",
       "      <td>0.050000</td>\n",
       "      <td>Basel SBB</td>\n",
       "      <td>2022-04-01 05:22:00</td>\n",
       "      <td>2022-04-01 05:24:08</td>\n",
       "      <td>2.133333</td>\n",
       "      <td>4</td>\n",
       "      <td>5</td>\n",
       "      <td>22</td>\n",
       "    </tr>\n",
       "    <tr>\n",
       "      <th>2</th>\n",
       "      <td>2022-04-01</td>\n",
       "      <td>1058</td>\n",
       "      <td>IC61</td>\n",
       "      <td>Basel SBB</td>\n",
       "      <td>2022-04-01 08:32:00</td>\n",
       "      <td>2022-04-01 08:33:02</td>\n",
       "      <td>1.033333</td>\n",
       "      <td>Olten</td>\n",
       "      <td>2022-04-01 08:05:00</td>\n",
       "      <td>2022-04-01 08:06:37</td>\n",
       "      <td>1.616667</td>\n",
       "      <td>4</td>\n",
       "      <td>8</td>\n",
       "      <td>5</td>\n",
       "    </tr>\n",
       "    <tr>\n",
       "      <th>3</th>\n",
       "      <td>2022-04-01</td>\n",
       "      <td>1060</td>\n",
       "      <td>IC6</td>\n",
       "      <td>Basel SBB</td>\n",
       "      <td>2022-04-01 09:32:00</td>\n",
       "      <td>2022-04-01 09:35:07</td>\n",
       "      <td>3.116667</td>\n",
       "      <td>Olten</td>\n",
       "      <td>2022-04-01 09:05:00</td>\n",
       "      <td>2022-04-01 09:12:14</td>\n",
       "      <td>7.233333</td>\n",
       "      <td>4</td>\n",
       "      <td>9</td>\n",
       "      <td>5</td>\n",
       "    </tr>\n",
       "    <tr>\n",
       "      <th>4</th>\n",
       "      <td>2022-04-01</td>\n",
       "      <td>1062</td>\n",
       "      <td>IC61</td>\n",
       "      <td>Basel SBB</td>\n",
       "      <td>2022-04-01 10:32:00</td>\n",
       "      <td>2022-04-01 10:31:35</td>\n",
       "      <td>-0.416667</td>\n",
       "      <td>Olten</td>\n",
       "      <td>2022-04-01 10:05:00</td>\n",
       "      <td>2022-04-01 10:06:11</td>\n",
       "      <td>1.183333</td>\n",
       "      <td>4</td>\n",
       "      <td>10</td>\n",
       "      <td>5</td>\n",
       "    </tr>\n",
       "  </tbody>\n",
       "</table>\n",
       "</div>"
      ],
      "text/plain": [
       "  BETRIEBSTAG  LINIEN_ID LINIEN_TEXT haltestelle_an             AN_soll  \\\n",
       "0  2022-04-01       1056        IC61      Basel SBB 2022-04-01 07:32:00   \n",
       "1  2022-04-01       1057        IC61          Olten 2022-04-01 05:54:00   \n",
       "2  2022-04-01       1058        IC61      Basel SBB 2022-04-01 08:32:00   \n",
       "3  2022-04-01       1060         IC6      Basel SBB 2022-04-01 09:32:00   \n",
       "4  2022-04-01       1062        IC61      Basel SBB 2022-04-01 10:32:00   \n",
       "\n",
       "               AN_ist   AN_diff haltestelle_ab             AB_soll  \\\n",
       "0 2022-04-01 07:32:49  0.816667          Olten 2022-04-01 07:05:00   \n",
       "1 2022-04-01 05:54:03  0.050000      Basel SBB 2022-04-01 05:22:00   \n",
       "2 2022-04-01 08:33:02  1.033333          Olten 2022-04-01 08:05:00   \n",
       "3 2022-04-01 09:35:07  3.116667          Olten 2022-04-01 09:05:00   \n",
       "4 2022-04-01 10:31:35 -0.416667          Olten 2022-04-01 10:05:00   \n",
       "\n",
       "               AB_ist   AB_diff  weekday  ab_hour  ab_minute  \n",
       "0 2022-04-01 07:07:23  2.383333        4        7          5  \n",
       "1 2022-04-01 05:24:08  2.133333        4        5         22  \n",
       "2 2022-04-01 08:06:37  1.616667        4        8          5  \n",
       "3 2022-04-01 09:12:14  7.233333        4        9          5  \n",
       "4 2022-04-01 10:06:11  1.183333        4       10          5  "
      ]
     },
     "execution_count": 2,
     "metadata": {},
     "output_type": "execute_result"
    }
   ],
   "source": [
    "# import data form csv\n",
    "data = pd.read_csv('App/Daten/data_expanded/combined_data.csv', parse_dates=['BETRIEBSTAG', 'AN_soll', 'AB_soll', 'AN_ist', 'AB_ist'])\n",
    "data.head()"
   ]
  },
  {
   "cell_type": "code",
   "execution_count": 3,
   "metadata": {
    "execution": {
     "iopub.execute_input": "2023-05-18T13:52:44.786699Z",
     "iopub.status.busy": "2023-05-18T13:52:44.786699Z",
     "iopub.status.idle": "2023-05-18T13:55:06.242515Z",
     "shell.execute_reply": "2023-05-18T13:55:06.242515Z"
    }
   },
   "outputs": [
    {
     "name": "stderr",
     "output_type": "stream",
     "text": [
      "c:\\Users\\stoec\\OneDrive - Universität St.Gallen\\Semester 9\\Big Data & Data Science\\bigdata-fs23\\App\\helper\\functions.py:17: DeprecatedFeatureWarning: content is deprecated, use rawContent instead\n",
      "  if any(keyword in tweet.content.lower() for keyword in haltestellen):\n",
      "c:\\Users\\stoec\\OneDrive - Universität St.Gallen\\Semester 9\\Big Data & Data Science\\bigdata-fs23\\App\\helper\\functions.py:18: DeprecatedFeatureWarning: content is deprecated, use rawContent instead\n",
      "  attributes_container.append([tweet.date, tweet.likeCount, tweet.sourceLabel, tweet.content])\n"
     ]
    },
    {
     "name": "stdout",
     "output_type": "stream",
     "text": [
      "0\n",
      "500\n",
      "1000\n",
      "1500\n",
      "2000\n",
      "2500\n",
      "3000\n",
      "3500\n",
      "4000\n",
      "4500\n",
      "5000\n",
      "5500\n",
      "6000\n",
      "6500\n"
     ]
    },
    {
     "name": "stderr",
     "output_type": "stream",
     "text": [
      "Stopping after 20 empty pages\n"
     ]
    }
   ],
   "source": [
    "# set start and end date\n",
    "START_DATE = data['BETRIEBSTAG'].min().strftime('%Y-%m-%d')\n",
    "END_DATE = data['BETRIEBSTAG'].max().strftime('%Y-%m-%d')\n",
    "\n",
    "# Define twitter query\n",
    "query = 'from:railinfo_sbb since:' + START_DATE + ' until:' + END_DATE\n",
    "max_tweets = 15000\n",
    "\n",
    "# lowercase all items from config.HALTESTELLEN\n",
    "haltestellen = [x.lower() for x in config.HALTESTELLEN]\n",
    "\n",
    "tweets_raw = get_twitter_data(query, max_tweets, haltestellen)\n",
    "\n",
    "# Save twitter data to csv\n",
    "tweets_raw.to_csv('App/Daten/twitter_data_raw.csv', index=False)\n"
   ]
  },
  {
   "cell_type": "code",
   "execution_count": 16,
   "metadata": {},
   "outputs": [],
   "source": [
    "# Process twitter data\n",
    "tweets = pd.read_csv('App/Daten/twitter_data_raw.csv', parse_dates=['Date Created'])\n",
    "# define all lines\n",
    "linien = [x.lower() for x in config.LINIEN]\n",
    "\n",
    "# lowercase all items from config.HALTESTELLEN\n",
    "haltestellen = [x.lower() for x in config.HALTESTELLEN]\n",
    "\n",
    "# suppress Warnings\n",
    "pd.options.mode.chained_assignment = None  # default='warn'\n",
    "twitter_clean = process_twitter_data(tweets, haltestellen, linien)\n",
    "# reactivating Warnings\n",
    "pd.options.mode.chained_assignment = 'warn'  # default='warn'\n",
    "\n",
    "# Save twitter data to csv\n",
    "twitter_clean.to_csv('App/Daten/twitter_data_clean.csv', index=False)\n",
    "\n",
    "# # Delete twitter_data_clean.csv\n",
    "# try:\n",
    "#     os.remove('App/Daten/twitter_data_raw.csv')\n",
    "# except:\n",
    "#     pass"
   ]
  },
  {
   "cell_type": "code",
   "execution_count": 17,
   "metadata": {},
   "outputs": [
    {
     "data": {
      "text/plain": [
       "Einschränkungen    361\n",
       "Endmeldung:        194\n",
       "Aufgehoben:         42\n",
       "Einschränkung       19\n",
       "Unterbruch          10\n",
       "Verkehr              1\n",
       "Teilausfall:         1\n",
       "Name: Einschr_type, dtype: int64"
      ]
     },
     "execution_count": 17,
     "metadata": {},
     "output_type": "execute_result"
    }
   ],
   "source": [
    "#Check values\n",
    "twitter_clean['Einschr_type'].value_counts()\n"
   ]
  },
  {
   "cell_type": "code",
   "execution_count": 18,
   "metadata": {},
   "outputs": [
    {
     "data": {
      "text/plain": [
       "Einschränkungen    361\n",
       "Endmeldung:        194\n",
       "Aufgehoben:         42\n",
       "Einschränkung       19\n",
       "Unterbruch          10\n",
       "Name: Einschr_type, dtype: int64"
      ]
     },
     "execution_count": 18,
     "metadata": {},
     "output_type": "execute_result"
    }
   ],
   "source": [
    "# check values\n",
    "twitter_clean = twitter_clean[twitter_clean['Einschr_type'] != 'Verkehr']\n",
    "twitter_clean = twitter_clean[twitter_clean['Einschr_type'] != 'Teilausfall:']\n",
    "twitter_clean['Einschr_type'].value_counts()         "
   ]
  },
  {
   "cell_type": "code",
   "execution_count": 19,
   "metadata": {},
   "outputs": [],
   "source": [
    "# check if data_disturbances already exists\n",
    "if not 'disturbance_overlap' in data.columns:\n",
    "    data_twitter = add_twitter_info(data, twitter_clean)\n",
    "    data_twitter.drop_duplicates(inplace=True)\n",
    "    # Save data to csv\n",
    "    data_twitter.to_csv('App/Daten/data_expanded/combined_data_twitter.csv', index=False)"
   ]
  }
 ],
 "metadata": {
  "kernelspec": {
   "display_name": "Python 3",
   "language": "python",
   "name": "python3"
  },
  "language_info": {
   "codemirror_mode": {
    "name": "ipython",
    "version": 3
   },
   "file_extension": ".py",
   "mimetype": "text/x-python",
   "name": "python",
   "nbconvert_exporter": "python",
   "pygments_lexer": "ipython3",
   "version": "3.11.2"
  }
 },
 "nbformat": 4,
 "nbformat_minor": 2
}
