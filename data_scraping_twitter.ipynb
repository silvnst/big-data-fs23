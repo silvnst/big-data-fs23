{
 "cells": [
  {
   "attachments": {},
   "cell_type": "markdown",
   "metadata": {},
   "source": [
    "# Twitter Scraping"
   ]
  },
  {
   "attachments": {},
   "cell_type": "markdown",
   "metadata": {},
   "source": [
    "\n",
    "Um Störungen im Betriebsnetz festzustellen, wurden jeweils die Twitter Beiträge des offiziellen SBB Accounts gescrapt. "
   ]
  },
  {
   "cell_type": "code",
   "execution_count": 20,
   "metadata": {
    "execution": {
     "iopub.execute_input": "2023-05-18T13:52:42.428213Z",
     "iopub.status.busy": "2023-05-18T13:52:42.428213Z",
     "iopub.status.idle": "2023-05-18T13:52:43.044779Z",
     "shell.execute_reply": "2023-05-18T13:52:43.044779Z"
    }
   },
   "outputs": [],
   "source": [
    "#import libraries and modules \n",
    "from App.helper.functions import process_twitter_data, get_twitter_data, add_twitter_info\n",
    "import App.helper.config as config\n",
    "import pandas as pd\n",
    "import os"
   ]
  },
  {
   "cell_type": "code",
   "execution_count": 21,
   "metadata": {
    "execution": {
     "iopub.execute_input": "2023-05-18T13:52:43.044779Z",
     "iopub.status.busy": "2023-05-18T13:52:43.044779Z",
     "iopub.status.idle": "2023-05-18T13:52:44.750011Z",
     "shell.execute_reply": "2023-05-18T13:52:44.750011Z"
    }
   },
   "outputs": [
    {
     "data": {
      "text/html": [
       "<div>\n",
       "<style scoped>\n",
       "    .dataframe tbody tr th:only-of-type {\n",
       "        vertical-align: middle;\n",
       "    }\n",
       "\n",
       "    .dataframe tbody tr th {\n",
       "        vertical-align: top;\n",
       "    }\n",
       "\n",
       "    .dataframe thead th {\n",
       "        text-align: right;\n",
       "    }\n",
       "</style>\n",
       "<table border=\"1\" class=\"dataframe\">\n",
       "  <thead>\n",
       "    <tr style=\"text-align: right;\">\n",
       "      <th></th>\n",
       "      <th>BETRIEBSTAG</th>\n",
       "      <th>LINIEN_ID</th>\n",
       "      <th>LINIEN_TEXT</th>\n",
       "      <th>haltestelle_an</th>\n",
       "      <th>AN_soll</th>\n",
       "      <th>AN_ist</th>\n",
       "      <th>AN_diff</th>\n",
       "      <th>haltestelle_ab</th>\n",
       "      <th>AB_soll</th>\n",
       "      <th>AB_ist</th>\n",
       "      <th>AB_diff</th>\n",
       "      <th>weekday</th>\n",
       "      <th>ab_hour</th>\n",
       "      <th>ab_minute</th>\n",
       "    </tr>\n",
       "  </thead>\n",
       "  <tbody>\n",
       "    <tr>\n",
       "      <th>0</th>\n",
       "      <td>2021-06-01</td>\n",
       "      <td>1251</td>\n",
       "      <td>IC3</td>\n",
       "      <td>Zürich HB</td>\n",
       "      <td>2021-06-01 07:00:00</td>\n",
       "      <td>2021-06-01 07:00:18</td>\n",
       "      <td>0.300000</td>\n",
       "      <td>Basel SBB</td>\n",
       "      <td>2021-06-01 06:06:00</td>\n",
       "      <td>2021-06-01 06:07:27</td>\n",
       "      <td>1.450000</td>\n",
       "      <td>1</td>\n",
       "      <td>6</td>\n",
       "      <td>6</td>\n",
       "    </tr>\n",
       "    <tr>\n",
       "      <th>1</th>\n",
       "      <td>2021-06-01</td>\n",
       "      <td>1252</td>\n",
       "      <td>IC</td>\n",
       "      <td>Basel SBB</td>\n",
       "      <td>2021-06-01 22:48:00</td>\n",
       "      <td>2021-06-01 22:47:55</td>\n",
       "      <td>-0.083333</td>\n",
       "      <td>Zürich HB</td>\n",
       "      <td>2021-06-01 21:36:00</td>\n",
       "      <td>2021-06-01 21:37:03</td>\n",
       "      <td>1.050000</td>\n",
       "      <td>1</td>\n",
       "      <td>21</td>\n",
       "      <td>36</td>\n",
       "    </tr>\n",
       "    <tr>\n",
       "      <th>2</th>\n",
       "      <td>2021-06-01</td>\n",
       "      <td>1253</td>\n",
       "      <td>IC3</td>\n",
       "      <td>Zürich HB</td>\n",
       "      <td>2021-06-01 08:00:00</td>\n",
       "      <td>2021-06-01 08:02:47</td>\n",
       "      <td>2.783333</td>\n",
       "      <td>Basel SBB</td>\n",
       "      <td>2021-06-01 07:06:00</td>\n",
       "      <td>2021-06-01 07:07:18</td>\n",
       "      <td>1.300000</td>\n",
       "      <td>1</td>\n",
       "      <td>7</td>\n",
       "      <td>6</td>\n",
       "    </tr>\n",
       "    <tr>\n",
       "      <th>3</th>\n",
       "      <td>2021-06-01</td>\n",
       "      <td>1260</td>\n",
       "      <td>IC3</td>\n",
       "      <td>Basel SBB</td>\n",
       "      <td>2021-06-01 21:53:00</td>\n",
       "      <td>2021-06-01 21:51:42</td>\n",
       "      <td>-1.300000</td>\n",
       "      <td>Zürich HB</td>\n",
       "      <td>2021-06-01 20:59:00</td>\n",
       "      <td>2021-06-01 21:00:18</td>\n",
       "      <td>1.300000</td>\n",
       "      <td>1</td>\n",
       "      <td>20</td>\n",
       "      <td>59</td>\n",
       "    </tr>\n",
       "    <tr>\n",
       "      <th>4</th>\n",
       "      <td>2021-06-01</td>\n",
       "      <td>1956</td>\n",
       "      <td>IR36</td>\n",
       "      <td>Basel SBB</td>\n",
       "      <td>2021-06-01 06:50:00</td>\n",
       "      <td>2021-06-01 06:51:18</td>\n",
       "      <td>1.300000</td>\n",
       "      <td>Zürich HB</td>\n",
       "      <td>2021-06-01 05:35:00</td>\n",
       "      <td>2021-06-01 05:36:17</td>\n",
       "      <td>1.283333</td>\n",
       "      <td>1</td>\n",
       "      <td>5</td>\n",
       "      <td>35</td>\n",
       "    </tr>\n",
       "  </tbody>\n",
       "</table>\n",
       "</div>"
      ],
      "text/plain": [
       "  BETRIEBSTAG  LINIEN_ID LINIEN_TEXT haltestelle_an             AN_soll  \\\n",
       "0  2021-06-01       1251         IC3      Zürich HB 2021-06-01 07:00:00   \n",
       "1  2021-06-01       1252          IC      Basel SBB 2021-06-01 22:48:00   \n",
       "2  2021-06-01       1253         IC3      Zürich HB 2021-06-01 08:00:00   \n",
       "3  2021-06-01       1260         IC3      Basel SBB 2021-06-01 21:53:00   \n",
       "4  2021-06-01       1956        IR36      Basel SBB 2021-06-01 06:50:00   \n",
       "\n",
       "               AN_ist   AN_diff haltestelle_ab             AB_soll  \\\n",
       "0 2021-06-01 07:00:18  0.300000      Basel SBB 2021-06-01 06:06:00   \n",
       "1 2021-06-01 22:47:55 -0.083333      Zürich HB 2021-06-01 21:36:00   \n",
       "2 2021-06-01 08:02:47  2.783333      Basel SBB 2021-06-01 07:06:00   \n",
       "3 2021-06-01 21:51:42 -1.300000      Zürich HB 2021-06-01 20:59:00   \n",
       "4 2021-06-01 06:51:18  1.300000      Zürich HB 2021-06-01 05:35:00   \n",
       "\n",
       "               AB_ist   AB_diff  weekday  ab_hour  ab_minute  \n",
       "0 2021-06-01 06:07:27  1.450000        1        6          6  \n",
       "1 2021-06-01 21:37:03  1.050000        1       21         36  \n",
       "2 2021-06-01 07:07:18  1.300000        1        7          6  \n",
       "3 2021-06-01 21:00:18  1.300000        1       20         59  \n",
       "4 2021-06-01 05:36:17  1.283333        1        5         35  "
      ]
     },
     "execution_count": 21,
     "metadata": {},
     "output_type": "execute_result"
    }
   ],
   "source": [
    "# import data form csv\n",
    "# data = pd.read_csv('App/Daten/data_new/combined_data.csv', parse_dates=['BETRIEBSTAG', 'AN_soll', 'AB_soll', 'AN_ist', 'AB_ist'])\n",
    "data1 = pd.read_csv('./Daten/two_years/combined_data_1.csv', parse_dates=['BETRIEBSTAG', 'AN_soll', 'AB_soll', 'AN_ist', 'AB_ist'])\n",
    "data2 = pd.read_csv('./Daten/two_years/combined_data_2.csv', parse_dates=['BETRIEBSTAG', 'AN_soll', 'AB_soll', 'AN_ist', 'AB_ist'])\n",
    "data = pd.concat([data1, data2], ignore_index=True)\n",
    "data.head()"
   ]
  },
  {
   "cell_type": "code",
   "execution_count": 22,
   "metadata": {
    "execution": {
     "iopub.execute_input": "2023-05-18T13:52:44.786699Z",
     "iopub.status.busy": "2023-05-18T13:52:44.786699Z",
     "iopub.status.idle": "2023-05-18T13:55:06.242515Z",
     "shell.execute_reply": "2023-05-18T13:55:06.242515Z"
    }
   },
   "outputs": [
    {
     "name": "stderr",
     "output_type": "stream",
     "text": [
      "c:\\Users\\stoec\\OneDrive - Universität St.Gallen\\big-data-fs23\\App\\helper\\functions.py:17: DeprecatedFeatureWarning: content is deprecated, use rawContent instead\n",
      "  if any(keyword in tweet.content.lower() for keyword in haltestellen):\n",
      "c:\\Users\\stoec\\OneDrive - Universität St.Gallen\\big-data-fs23\\App\\helper\\functions.py:18: DeprecatedFeatureWarning: content is deprecated, use rawContent instead\n",
      "  attributes_container.append([tweet.date, tweet.likeCount, tweet.sourceLabel, tweet.content])\n"
     ]
    },
    {
     "name": "stdout",
     "output_type": "stream",
     "text": [
      "0\n",
      "500\n",
      "1000\n",
      "1500\n",
      "2000\n",
      "2500\n",
      "3000\n",
      "3500\n",
      "4000\n",
      "4500\n",
      "5000\n",
      "5500\n",
      "6000\n",
      "6500\n",
      "7000\n",
      "7500\n",
      "8000\n",
      "8500\n"
     ]
    },
    {
     "name": "stderr",
     "output_type": "stream",
     "text": [
      "Stopping after 20 empty pages\n"
     ]
    }
   ],
   "source": [
    "# set start and end date\n",
    "START_DATE = data['BETRIEBSTAG'].min().strftime('%Y-%m-%d')\n",
    "END_DATE = data['BETRIEBSTAG'].max().strftime('%Y-%m-%d')\n",
    "\n",
    "# Define twitter query\n",
    "query = 'from:railinfo_sbb since:' + START_DATE + ' until:' + END_DATE\n",
    "max_tweets = 15000\n",
    "\n",
    "# lowercase all items from config.HALTESTELLEN\n",
    "haltestellen = [x.lower() for x in config.HALTESTELLEN]\n",
    "\n",
    "tweets_raw = get_twitter_data(query, max_tweets, haltestellen)\n",
    "\n",
    "# Save twitter data to csv\n",
    "tweets_raw.to_csv('App/Daten/data_new/twitter_data_raw.csv', index=False)\n"
   ]
  },
  {
   "cell_type": "code",
   "execution_count": 23,
   "metadata": {},
   "outputs": [],
   "source": [
    "# Process twitter data\n",
    "tweets = pd.read_csv('App/Daten/data_new/twitter_data_raw.csv', parse_dates=['Date Created'])\n",
    "\n",
    "\n",
    "# define all lines\n",
    "linien = [x.lower() for x in config.LINIEN]\n",
    "\n",
    "# lowercase all items from config.HALTESTELLEN\n",
    "haltestellen = [x.lower() for x in config.HALTESTELLEN]\n",
    "\n",
    "# suppress Warnings\n",
    "pd.options.mode.chained_assignment = None  # default='warn'\n",
    "twitter_clean = process_twitter_data(tweets, haltestellen, linien)\n",
    "# reactivating Warnings\n",
    "pd.options.mode.chained_assignment = 'warn'  # default='warn'\n",
    "\n",
    "# Save twitter data to csv\n",
    "twitter_clean.to_csv('App/Daten/data_new/twitter_data_clean.csv', index=False)\n",
    "\n",
    "# # Delete twitter_data_clean.csv\n",
    "# try:\n",
    "#     os.remove('App/Daten/twitter_data_raw.csv')\n",
    "# except:\n",
    "#     pass"
   ]
  },
  {
   "cell_type": "code",
   "execution_count": 24,
   "metadata": {},
   "outputs": [
    {
     "data": {
      "text/plain": [
       "Einschränkungen    361\n",
       "Endmeldung:        194\n",
       "Aufgehoben:         63\n",
       "Einschränkung       28\n",
       "Unterbruch          13\n",
       "Verkehr              1\n",
       "Teilausfall:         1\n",
       "Name: Einschr_type, dtype: int64"
      ]
     },
     "execution_count": 24,
     "metadata": {},
     "output_type": "execute_result"
    }
   ],
   "source": [
    "#Check values\n",
    "twitter_clean['Einschr_type'].value_counts()"
   ]
  },
  {
   "cell_type": "code",
   "execution_count": 25,
   "metadata": {},
   "outputs": [
    {
     "data": {
      "text/plain": [
       "Einschränkungen    361\n",
       "Endmeldung:        194\n",
       "Aufgehoben:         63\n",
       "Einschränkung       28\n",
       "Unterbruch          13\n",
       "Name: Einschr_type, dtype: int64"
      ]
     },
     "execution_count": 25,
     "metadata": {},
     "output_type": "execute_result"
    }
   ],
   "source": [
    "# check values\n",
    "twitter_clean = twitter_clean[twitter_clean['Einschr_type'] != 'Verkehr']\n",
    "twitter_clean = twitter_clean[twitter_clean['Einschr_type'] != 'Teilausfall:']\n",
    "twitter_clean['Einschr_type'].value_counts()         "
   ]
  },
  {
   "cell_type": "code",
   "execution_count": 26,
   "metadata": {},
   "outputs": [],
   "source": [
    "# check if data_disturbances already exists\n",
    "if not 'disturbance_overlap' in data.columns:\n",
    "    twitter_clean.drop_duplicates(inplace=True)\n",
    "    data_twitter = add_twitter_info(data, twitter_clean)\n",
    "    data_twitter.drop_duplicates(inplace=True)\n",
    "    # Save data to csv\n",
    "    data_twitter1 = data_twitter.loc[len(data_twitter)//2:]\n",
    "    data_twitter2 = data_twitter.loc[:len(data_twitter)//2]\n",
    "    data_twitter1.to_csv('App/Daten/data_new/combined_data_twitter1.csv', index=False)\n",
    "    data_twitter2.to_csv('App/Daten/data_new/combined_data_twitter2.csv', index=False)"
   ]
  },
  {
   "cell_type": "code",
   "execution_count": 30,
   "metadata": {},
   "outputs": [
    {
     "name": "stdout",
     "output_type": "stream",
     "text": [
      "2021-06-01 00:00:00\n",
      "2023-05-31 00:00:00\n"
     ]
    }
   ],
   "source": [
    "print(data_twitter['BETRIEBSTAG'].min())\n",
    "print(data_twitter['BETRIEBSTAG'].max())"
   ]
  },
  {
   "cell_type": "code",
   "execution_count": 31,
   "metadata": {},
   "outputs": [
    {
     "name": "stdout",
     "output_type": "stream",
     "text": [
      "2022-05-22 14:03:32+00:00\n",
      "2023-05-30 21:51:03+00:00\n"
     ]
    }
   ],
   "source": [
    "# get range of 'Date Created' in twitter_clean\n",
    "print(twitter_clean['Date Created'].min())\n",
    "print(twitter_clean['Date Created'].max())"
   ]
  }
 ],
 "metadata": {
  "kernelspec": {
   "display_name": "Python 3",
   "language": "python",
   "name": "python3"
  },
  "language_info": {
   "codemirror_mode": {
    "name": "ipython",
    "version": 3
   },
   "file_extension": ".py",
   "mimetype": "text/x-python",
   "name": "python",
   "nbconvert_exporter": "python",
   "pygments_lexer": "ipython3",
   "version": "3.11.2"
  }
 },
 "nbformat": 4,
 "nbformat_minor": 2
}
