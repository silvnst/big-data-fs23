{
 "cells": [
  {
   "cell_type": "code",
   "execution_count": 69,
   "metadata": {},
   "outputs": [],
   "source": [
    "# import libraries\n",
    "import pandas as pd\n",
    "import numpy as np\n",
    "import matplotlib.pyplot as plt\n",
    "from App.helper.functions import station_upper\n",
    "import App.helper.config as config"
   ]
  },
  {
   "cell_type": "code",
   "execution_count": 70,
   "metadata": {},
   "outputs": [
    {
     "name": "stdout",
     "output_type": "stream",
     "text": [
      "988164\n"
     ]
    },
    {
     "data": {
      "text/html": [
       "<div>\n",
       "<style scoped>\n",
       "    .dataframe tbody tr th:only-of-type {\n",
       "        vertical-align: middle;\n",
       "    }\n",
       "\n",
       "    .dataframe tbody tr th {\n",
       "        vertical-align: top;\n",
       "    }\n",
       "\n",
       "    .dataframe thead th {\n",
       "        text-align: right;\n",
       "    }\n",
       "</style>\n",
       "<table border=\"1\" class=\"dataframe\">\n",
       "  <thead>\n",
       "    <tr style=\"text-align: right;\">\n",
       "      <th></th>\n",
       "      <th>BETRIEBSTAG</th>\n",
       "      <th>LINIEN_ID</th>\n",
       "      <th>LINIEN_TEXT</th>\n",
       "      <th>haltestelle_an</th>\n",
       "      <th>AN_soll</th>\n",
       "      <th>AN_ist</th>\n",
       "      <th>AN_diff</th>\n",
       "      <th>haltestelle_ab</th>\n",
       "      <th>AB_soll</th>\n",
       "      <th>AB_ist</th>\n",
       "      <th>...</th>\n",
       "      <th>weekday</th>\n",
       "      <th>ab_hour</th>\n",
       "      <th>ab_minute</th>\n",
       "      <th>disturbance_overlap</th>\n",
       "      <th>Einschr_type</th>\n",
       "      <th>feiertag</th>\n",
       "      <th>Temperatur</th>\n",
       "      <th>Niederschlag</th>\n",
       "      <th>Luftfeuchtigkeit</th>\n",
       "      <th>Wind</th>\n",
       "    </tr>\n",
       "  </thead>\n",
       "  <tbody>\n",
       "    <tr>\n",
       "      <th>0</th>\n",
       "      <td>2022-05-24</td>\n",
       "      <td>2021</td>\n",
       "      <td>IR</td>\n",
       "      <td>St. Gallen</td>\n",
       "      <td>2022-05-24 12:55:00</td>\n",
       "      <td>2022-05-24 12:55:40</td>\n",
       "      <td>0.666667</td>\n",
       "      <td>Luzern</td>\n",
       "      <td>2022-05-24 10:39:00</td>\n",
       "      <td>2022-05-24 10:39:34</td>\n",
       "      <td>...</td>\n",
       "      <td>1</td>\n",
       "      <td>10</td>\n",
       "      <td>39</td>\n",
       "      <td>False</td>\n",
       "      <td>Keine</td>\n",
       "      <td>0</td>\n",
       "      <td>12.9</td>\n",
       "      <td>8.1</td>\n",
       "      <td>88.4</td>\n",
       "      <td>4.0</td>\n",
       "    </tr>\n",
       "    <tr>\n",
       "      <th>1</th>\n",
       "      <td>2023-04-28</td>\n",
       "      <td>505</td>\n",
       "      <td>IC5</td>\n",
       "      <td>St. Gallen</td>\n",
       "      <td>2023-04-28 07:02:00</td>\n",
       "      <td>2023-04-28 07:02:40</td>\n",
       "      <td>0.666667</td>\n",
       "      <td>Zürich HB</td>\n",
       "      <td>2023-04-28 06:03:00</td>\n",
       "      <td>2023-04-28 06:03:17</td>\n",
       "      <td>...</td>\n",
       "      <td>4</td>\n",
       "      <td>6</td>\n",
       "      <td>3</td>\n",
       "      <td>False</td>\n",
       "      <td>Keine</td>\n",
       "      <td>0</td>\n",
       "      <td>14.1</td>\n",
       "      <td>22.5</td>\n",
       "      <td>93.3</td>\n",
       "      <td>3.6</td>\n",
       "    </tr>\n",
       "  </tbody>\n",
       "</table>\n",
       "<p>2 rows × 21 columns</p>\n",
       "</div>"
      ],
      "text/plain": [
       "  BETRIEBSTAG  LINIEN_ID LINIEN_TEXT haltestelle_an              AN_soll  \\\n",
       "0  2022-05-24       2021          IR     St. Gallen  2022-05-24 12:55:00   \n",
       "1  2023-04-28        505         IC5     St. Gallen  2023-04-28 07:02:00   \n",
       "\n",
       "                AN_ist   AN_diff haltestelle_ab              AB_soll  \\\n",
       "0  2022-05-24 12:55:40  0.666667         Luzern  2022-05-24 10:39:00   \n",
       "1  2023-04-28 07:02:40  0.666667      Zürich HB  2023-04-28 06:03:00   \n",
       "\n",
       "                AB_ist  ...  weekday  ab_hour  ab_minute  disturbance_overlap  \\\n",
       "0  2022-05-24 10:39:34  ...        1       10         39                False   \n",
       "1  2023-04-28 06:03:17  ...        4        6          3                False   \n",
       "\n",
       "   Einschr_type feiertag  Temperatur  Niederschlag  Luftfeuchtigkeit  Wind  \n",
       "0         Keine        0        12.9           8.1              88.4   4.0  \n",
       "1         Keine        0        14.1          22.5              93.3   3.6  \n",
       "\n",
       "[2 rows x 21 columns]"
      ]
     },
     "execution_count": 70,
     "metadata": {},
     "output_type": "execute_result"
    }
   ],
   "source": [
    "# Read twitter data\n",
    "# daten = pd.read_csv('App/Daten/data_expanded/combined_data_twitter_long.csv')\n",
    "daten1 = pd.read_csv('App/Daten/data_new/combined_data_twitter_long_1.csv')\n",
    "daten2 = pd.read_csv('App/Daten/data_new/combined_data_twitter_long_2.csv')\n",
    "daten = pd.concat([daten1, daten2], ignore_index=True, axis=0)\n",
    "daten['Einschr_type'].fillna('Keine', inplace=True)\n",
    "print(len(daten))\n",
    "daten.head(2)"
   ]
  },
  {
   "cell_type": "code",
   "execution_count": 71,
   "metadata": {},
   "outputs": [
    {
     "name": "stdout",
     "output_type": "stream",
     "text": [
      "<class 'pandas.core.frame.DataFrame'>\n",
      "RangeIndex: 988164 entries, 0 to 988163\n",
      "Data columns (total 21 columns):\n",
      " #   Column               Non-Null Count   Dtype  \n",
      "---  ------               --------------   -----  \n",
      " 0   BETRIEBSTAG          988164 non-null  object \n",
      " 1   LINIEN_ID            988164 non-null  int64  \n",
      " 2   LINIEN_TEXT          988164 non-null  object \n",
      " 3   haltestelle_an       988164 non-null  object \n",
      " 4   AN_soll              988164 non-null  object \n",
      " 5   AN_ist               988164 non-null  object \n",
      " 6   AN_diff              988164 non-null  float64\n",
      " 7   haltestelle_ab       988164 non-null  object \n",
      " 8   AB_soll              988164 non-null  object \n",
      " 9   AB_ist               988164 non-null  object \n",
      " 10  AB_diff              988164 non-null  float64\n",
      " 11  weekday              988164 non-null  int64  \n",
      " 12  ab_hour              988164 non-null  int64  \n",
      " 13  ab_minute            988164 non-null  int64  \n",
      " 14  disturbance_overlap  988164 non-null  bool   \n",
      " 15  Einschr_type         988164 non-null  object \n",
      " 16  feiertag             988164 non-null  int64  \n",
      " 17  Temperatur           534107 non-null  float64\n",
      " 18  Niederschlag         534107 non-null  float64\n",
      " 19  Luftfeuchtigkeit     534107 non-null  float64\n",
      " 20  Wind                 534107 non-null  float64\n",
      "dtypes: bool(1), float64(6), int64(5), object(9)\n",
      "memory usage: 151.7+ MB\n"
     ]
    }
   ],
   "source": [
    "daten.info()"
   ]
  },
  {
   "cell_type": "code",
   "execution_count": 72,
   "metadata": {},
   "outputs": [],
   "source": [
    "daten['Linien_typ'] = daten['LINIEN_TEXT'].str.replace('\\d+', '', regex=True)"
   ]
  },
  {
   "cell_type": "code",
   "execution_count": 73,
   "metadata": {},
   "outputs": [
    {
     "data": {
      "text/plain": [
       "IR     471045\n",
       "IC     430970\n",
       "EC      61154\n",
       "ICE     24995\n",
       "Name: Linien_typ, dtype: int64"
      ]
     },
     "execution_count": 73,
     "metadata": {},
     "output_type": "execute_result"
    }
   ],
   "source": [
    "daten['Linien_typ'].value_counts()"
   ]
  },
  {
   "cell_type": "code",
   "execution_count": 74,
   "metadata": {},
   "outputs": [
    {
     "data": {
      "text/plain": [
       "Wind    454057\n",
       "dtype: int64"
      ]
     },
     "execution_count": 74,
     "metadata": {},
     "output_type": "execute_result"
    }
   ],
   "source": [
    "daten.isna().sum().sort_values(ascending=False).head(1)"
   ]
  },
  {
   "cell_type": "code",
   "execution_count": 75,
   "metadata": {},
   "outputs": [],
   "source": [
    "# replace True and False with 1 and 0 in the column 'disturbance_overlap'\n",
    "daten['disturbance_overlap'] = daten['disturbance_overlap'].replace(True, 1)\n",
    "daten['disturbance_overlap'] = daten['disturbance_overlap'].replace(False, 0)"
   ]
  },
  {
   "cell_type": "code",
   "execution_count": 76,
   "metadata": {},
   "outputs": [
    {
     "name": "stdout",
     "output_type": "stream",
     "text": [
      "<class 'pandas.core.frame.DataFrame'>\n",
      "RangeIndex: 988164 entries, 0 to 988163\n",
      "Data columns (total 22 columns):\n",
      " #   Column               Non-Null Count   Dtype  \n",
      "---  ------               --------------   -----  \n",
      " 0   BETRIEBSTAG          988164 non-null  object \n",
      " 1   LINIEN_ID            988164 non-null  int64  \n",
      " 2   LINIEN_TEXT          988164 non-null  object \n",
      " 3   haltestelle_an       988164 non-null  object \n",
      " 4   AN_soll              988164 non-null  object \n",
      " 5   AN_ist               988164 non-null  object \n",
      " 6   AN_diff              988164 non-null  float64\n",
      " 7   haltestelle_ab       988164 non-null  object \n",
      " 8   AB_soll              988164 non-null  object \n",
      " 9   AB_ist               988164 non-null  object \n",
      " 10  AB_diff              988164 non-null  float64\n",
      " 11  weekday              988164 non-null  int64  \n",
      " 12  ab_hour              988164 non-null  int64  \n",
      " 13  ab_minute            988164 non-null  int64  \n",
      " 14  disturbance_overlap  988164 non-null  int64  \n",
      " 15  Einschr_type         988164 non-null  object \n",
      " 16  feiertag             988164 non-null  int64  \n",
      " 17  Temperatur           534107 non-null  float64\n",
      " 18  Niederschlag         534107 non-null  float64\n",
      " 19  Luftfeuchtigkeit     534107 non-null  float64\n",
      " 20  Wind                 534107 non-null  float64\n",
      " 21  Linien_typ           988164 non-null  object \n",
      "dtypes: float64(6), int64(6), object(10)\n",
      "memory usage: 165.9+ MB\n"
     ]
    }
   ],
   "source": [
    "daten.info()"
   ]
  },
  {
   "cell_type": "code",
   "execution_count": 77,
   "metadata": {},
   "outputs": [],
   "source": [
    "data = daten.drop(['AN_soll', 'AN_ist', 'AB_soll', 'AB_ist', 'AB_diff', 'LINIEN_ID', 'LINIEN_TEXT', 'disturbance_overlap'], axis=1)\n",
    "data = pd.get_dummies(data, columns=['haltestelle_ab', 'haltestelle_an', 'Linien_typ', 'Einschr_type'])"
   ]
  },
  {
   "cell_type": "code",
   "execution_count": 78,
   "metadata": {},
   "outputs": [
    {
     "name": "stdout",
     "output_type": "stream",
     "text": [
      "<class 'pandas.core.frame.DataFrame'>\n",
      "RangeIndex: 988164 entries, 0 to 988163\n",
      "Data columns (total 33 columns):\n",
      " #   Column                       Non-Null Count   Dtype  \n",
      "---  ------                       --------------   -----  \n",
      " 0   BETRIEBSTAG                  988164 non-null  object \n",
      " 1   AN_diff                      988164 non-null  float64\n",
      " 2   weekday                      988164 non-null  int64  \n",
      " 3   ab_hour                      988164 non-null  int64  \n",
      " 4   ab_minute                    988164 non-null  int64  \n",
      " 5   feiertag                     988164 non-null  int64  \n",
      " 6   Temperatur                   534107 non-null  float64\n",
      " 7   Niederschlag                 534107 non-null  float64\n",
      " 8   Luftfeuchtigkeit             534107 non-null  float64\n",
      " 9   Wind                         534107 non-null  float64\n",
      " 10  haltestelle_ab_Basel SBB     988164 non-null  uint8  \n",
      " 11  haltestelle_ab_Bern          988164 non-null  uint8  \n",
      " 12  haltestelle_ab_Lugano        988164 non-null  uint8  \n",
      " 13  haltestelle_ab_Luzern        988164 non-null  uint8  \n",
      " 14  haltestelle_ab_Olten         988164 non-null  uint8  \n",
      " 15  haltestelle_ab_St. Gallen    988164 non-null  uint8  \n",
      " 16  haltestelle_ab_Zürich HB     988164 non-null  uint8  \n",
      " 17  haltestelle_an_Basel SBB     988164 non-null  uint8  \n",
      " 18  haltestelle_an_Bern          988164 non-null  uint8  \n",
      " 19  haltestelle_an_Lugano        988164 non-null  uint8  \n",
      " 20  haltestelle_an_Luzern        988164 non-null  uint8  \n",
      " 21  haltestelle_an_Olten         988164 non-null  uint8  \n",
      " 22  haltestelle_an_St. Gallen    988164 non-null  uint8  \n",
      " 23  haltestelle_an_Zürich HB     988164 non-null  uint8  \n",
      " 24  Linien_typ_EC                988164 non-null  uint8  \n",
      " 25  Linien_typ_IC                988164 non-null  uint8  \n",
      " 26  Linien_typ_ICE               988164 non-null  uint8  \n",
      " 27  Linien_typ_IR                988164 non-null  uint8  \n",
      " 28  Einschr_type_Aufgehoben:     988164 non-null  uint8  \n",
      " 29  Einschr_type_Einschraenkung  988164 non-null  uint8  \n",
      " 30  Einschr_type_Endmeldung:     988164 non-null  uint8  \n",
      " 31  Einschr_type_Keine           988164 non-null  uint8  \n",
      " 32  Einschr_type_Unterbruch      988164 non-null  uint8  \n",
      "dtypes: float64(5), int64(4), object(1), uint8(23)\n",
      "memory usage: 97.1+ MB\n"
     ]
    }
   ],
   "source": [
    "data.info()"
   ]
  },
  {
   "cell_type": "code",
   "execution_count": 79,
   "metadata": {},
   "outputs": [],
   "source": [
    "data1 = data.loc[len(data)//2:]\n",
    "data2 = data.loc[:len(data)//2]\n",
    "data1.to_csv('App/Daten/data_new/less_wide1.csv', index=False)\n",
    "data2.to_csv('App/Daten/data_new/less_wide2.csv', index=False)"
   ]
  },
  {
   "cell_type": "code",
   "execution_count": 80,
   "metadata": {},
   "outputs": [],
   "source": [
    "data_detail = daten.drop(['AN_soll', 'AN_ist', 'AB_soll', 'AB_ist', 'AB_diff', 'LINIEN_ID', 'Linien_typ', 'disturbance_overlap'], axis=1)\n",
    "data_detail['week'] = pd.to_datetime(data_detail['BETRIEBSTAG']).dt.isocalendar().week\n",
    "data_detail = pd.get_dummies(data_detail, columns=['haltestelle_ab', 'haltestelle_an', 'LINIEN_TEXT', 'Einschr_type'])"
   ]
  },
  {
   "cell_type": "code",
   "execution_count": 81,
   "metadata": {},
   "outputs": [],
   "source": [
    "data_detail1 = data_detail.loc[len(data_detail)//2:]\n",
    "data_detail2 = data_detail.loc[:len(data_detail)//2]\n",
    "data_detail1.to_csv('App/Daten/data_new/detail1.csv', index=False)\n",
    "data_detail2.to_csv('App/Daten/data_new/detail2.csv', index=False)"
   ]
  }
 ],
 "metadata": {
  "kernelspec": {
   "display_name": "Python 3",
   "language": "python",
   "name": "python3"
  },
  "language_info": {
   "codemirror_mode": {
    "name": "ipython",
    "version": 3
   },
   "file_extension": ".py",
   "mimetype": "text/x-python",
   "name": "python",
   "nbconvert_exporter": "python",
   "pygments_lexer": "ipython3",
   "version": "3.11.2"
  },
  "orig_nbformat": 4
 },
 "nbformat": 4,
 "nbformat_minor": 2
}
