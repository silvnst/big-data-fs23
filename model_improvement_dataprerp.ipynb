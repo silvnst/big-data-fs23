{
 "cells": [
  {
   "cell_type": "code",
   "execution_count": 47,
   "metadata": {},
   "outputs": [],
   "source": [
    "# import libraries\n",
    "import pandas as pd\n",
    "import numpy as np\n",
    "import matplotlib.pyplot as plt\n",
    "from App.helper.functions import station_upper\n",
    "import App.helper.config as config"
   ]
  },
  {
   "cell_type": "code",
   "execution_count": 48,
   "metadata": {},
   "outputs": [
    {
     "name": "stdout",
     "output_type": "stream",
     "text": [
      "423227\n"
     ]
    },
    {
     "data": {
      "text/html": [
       "<div>\n",
       "<style scoped>\n",
       "    .dataframe tbody tr th:only-of-type {\n",
       "        vertical-align: middle;\n",
       "    }\n",
       "\n",
       "    .dataframe tbody tr th {\n",
       "        vertical-align: top;\n",
       "    }\n",
       "\n",
       "    .dataframe thead th {\n",
       "        text-align: right;\n",
       "    }\n",
       "</style>\n",
       "<table border=\"1\" class=\"dataframe\">\n",
       "  <thead>\n",
       "    <tr style=\"text-align: right;\">\n",
       "      <th></th>\n",
       "      <th>BETRIEBSTAG</th>\n",
       "      <th>LINIEN_ID</th>\n",
       "      <th>LINIEN_TEXT</th>\n",
       "      <th>haltestelle_an</th>\n",
       "      <th>AN_soll</th>\n",
       "      <th>AN_ist</th>\n",
       "      <th>AN_diff</th>\n",
       "      <th>haltestelle_ab</th>\n",
       "      <th>AB_soll</th>\n",
       "      <th>AB_ist</th>\n",
       "      <th>...</th>\n",
       "      <th>weekday</th>\n",
       "      <th>ab_hour</th>\n",
       "      <th>ab_minute</th>\n",
       "      <th>disturbance_overlap</th>\n",
       "      <th>Einschr_type</th>\n",
       "      <th>feiertag</th>\n",
       "      <th>Temperatur</th>\n",
       "      <th>Niederschlag</th>\n",
       "      <th>Luftfeuchtigkeit</th>\n",
       "      <th>Wind</th>\n",
       "    </tr>\n",
       "  </thead>\n",
       "  <tbody>\n",
       "    <tr>\n",
       "      <th>0</th>\n",
       "      <td>2023-03-25</td>\n",
       "      <td>843</td>\n",
       "      <td>IC8</td>\n",
       "      <td>Zürich HB</td>\n",
       "      <td>2023-03-26 01:23:00</td>\n",
       "      <td>2023-03-26 03:21:39</td>\n",
       "      <td>118.65</td>\n",
       "      <td>Olten</td>\n",
       "      <td>2023-03-26 01:47:00</td>\n",
       "      <td>2023-03-26 01:47:36</td>\n",
       "      <td>...</td>\n",
       "      <td>5</td>\n",
       "      <td>1</td>\n",
       "      <td>47</td>\n",
       "      <td>False</td>\n",
       "      <td>Keine</td>\n",
       "      <td>0</td>\n",
       "      <td>11.0</td>\n",
       "      <td>8.0</td>\n",
       "      <td>84.6</td>\n",
       "      <td>7.5</td>\n",
       "    </tr>\n",
       "    <tr>\n",
       "      <th>1</th>\n",
       "      <td>2023-03-25</td>\n",
       "      <td>843</td>\n",
       "      <td>IC8</td>\n",
       "      <td>Zürich HB</td>\n",
       "      <td>2023-03-26 01:23:00</td>\n",
       "      <td>2023-03-26 03:21:39</td>\n",
       "      <td>118.65</td>\n",
       "      <td>Bern</td>\n",
       "      <td>2023-03-26 01:06:00</td>\n",
       "      <td>2023-03-26 01:07:39</td>\n",
       "      <td>...</td>\n",
       "      <td>5</td>\n",
       "      <td>1</td>\n",
       "      <td>6</td>\n",
       "      <td>False</td>\n",
       "      <td>Keine</td>\n",
       "      <td>0</td>\n",
       "      <td>1.2</td>\n",
       "      <td>4.8</td>\n",
       "      <td>75.3</td>\n",
       "      <td>6.8</td>\n",
       "    </tr>\n",
       "  </tbody>\n",
       "</table>\n",
       "<p>2 rows × 21 columns</p>\n",
       "</div>"
      ],
      "text/plain": [
       "  BETRIEBSTAG  LINIEN_ID LINIEN_TEXT haltestelle_an              AN_soll  \\\n",
       "0  2023-03-25        843         IC8      Zürich HB  2023-03-26 01:23:00   \n",
       "1  2023-03-25        843         IC8      Zürich HB  2023-03-26 01:23:00   \n",
       "\n",
       "                AN_ist  AN_diff haltestelle_ab              AB_soll  \\\n",
       "0  2023-03-26 03:21:39   118.65          Olten  2023-03-26 01:47:00   \n",
       "1  2023-03-26 03:21:39   118.65           Bern  2023-03-26 01:06:00   \n",
       "\n",
       "                AB_ist  ...  weekday  ab_hour  ab_minute  disturbance_overlap  \\\n",
       "0  2023-03-26 01:47:36  ...        5        1         47                False   \n",
       "1  2023-03-26 01:07:39  ...        5        1          6                False   \n",
       "\n",
       "   Einschr_type feiertag  Temperatur  Niederschlag  Luftfeuchtigkeit  Wind  \n",
       "0         Keine        0        11.0           8.0              84.6   7.5  \n",
       "1         Keine        0         1.2           4.8              75.3   6.8  \n",
       "\n",
       "[2 rows x 21 columns]"
      ]
     },
     "execution_count": 48,
     "metadata": {},
     "output_type": "execute_result"
    }
   ],
   "source": [
    "# Read twitter data\n",
    "daten = pd.read_csv('App/Daten/data_expanded/combined_data_twitter_long.csv')\n",
    "daten['Einschr_type'].fillna('Keine', inplace=True)\n",
    "print(len(daten))\n",
    "daten.head(2)"
   ]
  },
  {
   "cell_type": "code",
   "execution_count": 49,
   "metadata": {},
   "outputs": [
    {
     "name": "stdout",
     "output_type": "stream",
     "text": [
      "<class 'pandas.core.frame.DataFrame'>\n",
      "RangeIndex: 423227 entries, 0 to 423226\n",
      "Data columns (total 21 columns):\n",
      " #   Column               Non-Null Count   Dtype  \n",
      "---  ------               --------------   -----  \n",
      " 0   BETRIEBSTAG          423227 non-null  object \n",
      " 1   LINIEN_ID            423227 non-null  int64  \n",
      " 2   LINIEN_TEXT          423227 non-null  object \n",
      " 3   haltestelle_an       423227 non-null  object \n",
      " 4   AN_soll              423227 non-null  object \n",
      " 5   AN_ist               423227 non-null  object \n",
      " 6   AN_diff              423227 non-null  float64\n",
      " 7   haltestelle_ab       423227 non-null  object \n",
      " 8   AB_soll              423227 non-null  object \n",
      " 9   AB_ist               423227 non-null  object \n",
      " 10  AB_diff              423227 non-null  float64\n",
      " 11  weekday              423227 non-null  int64  \n",
      " 12  ab_hour              423227 non-null  int64  \n",
      " 13  ab_minute            423227 non-null  int64  \n",
      " 14  disturbance_overlap  423227 non-null  bool   \n",
      " 15  Einschr_type         423227 non-null  object \n",
      " 16  feiertag             423227 non-null  int64  \n",
      " 17  Temperatur           423227 non-null  float64\n",
      " 18  Niederschlag         423227 non-null  float64\n",
      " 19  Luftfeuchtigkeit     423227 non-null  float64\n",
      " 20  Wind                 423227 non-null  float64\n",
      "dtypes: bool(1), float64(6), int64(5), object(9)\n",
      "memory usage: 65.0+ MB\n"
     ]
    }
   ],
   "source": [
    "daten.info()"
   ]
  },
  {
   "cell_type": "code",
   "execution_count": 50,
   "metadata": {},
   "outputs": [],
   "source": [
    "daten['Linien_typ'] = daten['LINIEN_TEXT'].str.replace('\\d+', '', regex=True)"
   ]
  },
  {
   "cell_type": "code",
   "execution_count": 51,
   "metadata": {},
   "outputs": [
    {
     "data": {
      "text/plain": [
       "IC     228845\n",
       "IR     146111\n",
       "EC      34058\n",
       "ICE     14213\n",
       "Name: Linien_typ, dtype: int64"
      ]
     },
     "execution_count": 51,
     "metadata": {},
     "output_type": "execute_result"
    }
   ],
   "source": [
    "daten['Linien_typ'].value_counts()"
   ]
  },
  {
   "cell_type": "code",
   "execution_count": 52,
   "metadata": {},
   "outputs": [
    {
     "data": {
      "text/plain": [
       "BETRIEBSTAG    0\n",
       "dtype: int64"
      ]
     },
     "execution_count": 52,
     "metadata": {},
     "output_type": "execute_result"
    }
   ],
   "source": [
    "daten.isna().sum().sort_values(ascending=False).head(1)"
   ]
  },
  {
   "cell_type": "code",
   "execution_count": 53,
   "metadata": {},
   "outputs": [],
   "source": [
    "# replace True and False with 1 and 0 in the column 'disturbance_overlap'\n",
    "daten['disturbance_overlap'] = daten['disturbance_overlap'].replace(True, 1)\n",
    "daten['disturbance_overlap'] = daten['disturbance_overlap'].replace(False, 0)"
   ]
  },
  {
   "cell_type": "code",
   "execution_count": 54,
   "metadata": {},
   "outputs": [
    {
     "name": "stdout",
     "output_type": "stream",
     "text": [
      "<class 'pandas.core.frame.DataFrame'>\n",
      "RangeIndex: 423227 entries, 0 to 423226\n",
      "Data columns (total 22 columns):\n",
      " #   Column               Non-Null Count   Dtype  \n",
      "---  ------               --------------   -----  \n",
      " 0   BETRIEBSTAG          423227 non-null  object \n",
      " 1   LINIEN_ID            423227 non-null  int64  \n",
      " 2   LINIEN_TEXT          423227 non-null  object \n",
      " 3   haltestelle_an       423227 non-null  object \n",
      " 4   AN_soll              423227 non-null  object \n",
      " 5   AN_ist               423227 non-null  object \n",
      " 6   AN_diff              423227 non-null  float64\n",
      " 7   haltestelle_ab       423227 non-null  object \n",
      " 8   AB_soll              423227 non-null  object \n",
      " 9   AB_ist               423227 non-null  object \n",
      " 10  AB_diff              423227 non-null  float64\n",
      " 11  weekday              423227 non-null  int64  \n",
      " 12  ab_hour              423227 non-null  int64  \n",
      " 13  ab_minute            423227 non-null  int64  \n",
      " 14  disturbance_overlap  423227 non-null  int64  \n",
      " 15  Einschr_type         423227 non-null  object \n",
      " 16  feiertag             423227 non-null  int64  \n",
      " 17  Temperatur           423227 non-null  float64\n",
      " 18  Niederschlag         423227 non-null  float64\n",
      " 19  Luftfeuchtigkeit     423227 non-null  float64\n",
      " 20  Wind                 423227 non-null  float64\n",
      " 21  Linien_typ           423227 non-null  object \n",
      "dtypes: float64(6), int64(6), object(10)\n",
      "memory usage: 71.0+ MB\n"
     ]
    }
   ],
   "source": [
    "daten.info()"
   ]
  },
  {
   "cell_type": "code",
   "execution_count": 55,
   "metadata": {},
   "outputs": [],
   "source": [
    "data = daten.drop(['AN_soll', 'AN_ist', 'AB_soll', 'AB_ist', 'AB_diff', 'LINIEN_ID', 'LINIEN_TEXT', 'disturbance_overlap'], axis=1)\n",
    "data = pd.get_dummies(data, columns=['haltestelle_ab', 'haltestelle_an', 'Linien_typ', 'Einschr_type'])"
   ]
  },
  {
   "cell_type": "code",
   "execution_count": 56,
   "metadata": {},
   "outputs": [
    {
     "name": "stdout",
     "output_type": "stream",
     "text": [
      "<class 'pandas.core.frame.DataFrame'>\n",
      "RangeIndex: 423227 entries, 0 to 423226\n",
      "Data columns (total 33 columns):\n",
      " #   Column                       Non-Null Count   Dtype  \n",
      "---  ------                       --------------   -----  \n",
      " 0   BETRIEBSTAG                  423227 non-null  object \n",
      " 1   AN_diff                      423227 non-null  float64\n",
      " 2   weekday                      423227 non-null  int64  \n",
      " 3   ab_hour                      423227 non-null  int64  \n",
      " 4   ab_minute                    423227 non-null  int64  \n",
      " 5   feiertag                     423227 non-null  int64  \n",
      " 6   Temperatur                   423227 non-null  float64\n",
      " 7   Niederschlag                 423227 non-null  float64\n",
      " 8   Luftfeuchtigkeit             423227 non-null  float64\n",
      " 9   Wind                         423227 non-null  float64\n",
      " 10  haltestelle_ab_Basel SBB     423227 non-null  uint8  \n",
      " 11  haltestelle_ab_Bern          423227 non-null  uint8  \n",
      " 12  haltestelle_ab_Lugano        423227 non-null  uint8  \n",
      " 13  haltestelle_ab_Luzern        423227 non-null  uint8  \n",
      " 14  haltestelle_ab_Olten         423227 non-null  uint8  \n",
      " 15  haltestelle_ab_St. Gallen    423227 non-null  uint8  \n",
      " 16  haltestelle_ab_Zürich HB     423227 non-null  uint8  \n",
      " 17  haltestelle_an_Basel SBB     423227 non-null  uint8  \n",
      " 18  haltestelle_an_Bern          423227 non-null  uint8  \n",
      " 19  haltestelle_an_Lugano        423227 non-null  uint8  \n",
      " 20  haltestelle_an_Luzern        423227 non-null  uint8  \n",
      " 21  haltestelle_an_Olten         423227 non-null  uint8  \n",
      " 22  haltestelle_an_St. Gallen    423227 non-null  uint8  \n",
      " 23  haltestelle_an_Zürich HB     423227 non-null  uint8  \n",
      " 24  Linien_typ_EC                423227 non-null  uint8  \n",
      " 25  Linien_typ_IC                423227 non-null  uint8  \n",
      " 26  Linien_typ_ICE               423227 non-null  uint8  \n",
      " 27  Linien_typ_IR                423227 non-null  uint8  \n",
      " 28  Einschr_type_Aufgehoben:     423227 non-null  uint8  \n",
      " 29  Einschr_type_Einschraenkung  423227 non-null  uint8  \n",
      " 30  Einschr_type_Endmeldung:     423227 non-null  uint8  \n",
      " 31  Einschr_type_Keine           423227 non-null  uint8  \n",
      " 32  Einschr_type_Unterbruch      423227 non-null  uint8  \n",
      "dtypes: float64(5), int64(4), object(1), uint8(23)\n",
      "memory usage: 41.6+ MB\n"
     ]
    }
   ],
   "source": [
    "data.info()"
   ]
  },
  {
   "cell_type": "code",
   "execution_count": 57,
   "metadata": {},
   "outputs": [],
   "source": [
    "data.to_csv('App/Daten/data_new/less_wide.csv', index=False)"
   ]
  },
  {
   "cell_type": "code",
   "execution_count": 61,
   "metadata": {},
   "outputs": [],
   "source": [
    "data_detail = daten.drop(['AN_soll', 'AN_ist', 'AB_soll', 'AB_ist', 'AB_diff', 'LINIEN_ID', 'Linien_typ', 'disturbance_overlap'], axis=1)\n",
    "data_detail['week'] = pd.to_datetime(data_detail['BETRIEBSTAG']).dt.isocalendar().week\n",
    "data_detail = pd.get_dummies(data_detail, columns=['haltestelle_ab', 'haltestelle_an', 'LINIEN_TEXT', 'Einschr_type'])"
   ]
  },
  {
   "cell_type": "code",
   "execution_count": 62,
   "metadata": {},
   "outputs": [],
   "source": [
    "data_detail.to_csv('App/Daten/data_new/detail.csv', index=False)"
   ]
  }
 ],
 "metadata": {
  "kernelspec": {
   "display_name": "Python 3",
   "language": "python",
   "name": "python3"
  },
  "language_info": {
   "codemirror_mode": {
    "name": "ipython",
    "version": 3
   },
   "file_extension": ".py",
   "mimetype": "text/x-python",
   "name": "python",
   "nbconvert_exporter": "python",
   "pygments_lexer": "ipython3",
   "version": "3.11.2"
  },
  "orig_nbformat": 4
 },
 "nbformat": 4,
 "nbformat_minor": 2
}
